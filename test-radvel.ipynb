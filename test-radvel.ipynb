{
 "cells": [
  {
   "cell_type": "code",
   "execution_count": 2,
   "metadata": {},
   "outputs": [],
   "source": [
    "import numpy as np\n",
    "import pandas as pd\n",
    "import matplotlib as mpl\n",
    "import matplotlib.pyplot as plt\n",
    "import astropy.units as u\n",
    "from astropy.timeseries import LombScargle\n",
    "\n",
    "from uncertainties import ufloat\n",
    "from uncertainties.umath import *\n",
    "from scipy import constants\n",
    "\n",
    "import radvel\n",
    "import os"
   ]
  },
  {
   "cell_type": "code",
   "execution_count": 4,
   "metadata": {},
   "outputs": [],
   "source": [
    "# Define global planetary system and dataset parameters\n",
    "starname = 'HD224016'\n",
    "nplanets = 1    # number of planets in the system\n",
    "instnames = ['sophie']    # list of instrument names. Can be whatever you like (no spaces) but should match 'tel' column in the input file.\n",
    "ntels = len(instnames)       # number of instruments with unique velocity zero-points\n",
    "fitting_basis = 'per tc secosw sesinw logk'    # Fitting basis, see radvel.basis.BASIS_NAMES for available basis names\n",
    "bjd0 = 2450000   # reference epoch for RV timestamps (i.e. this number has been subtracted off your timestamps)\n",
    "planet_letters = {1: 'b'}   # map the numbers in the Parameters keys to planet letters (for plotting and tables)\n"
   ]
  },
  {
   "cell_type": "code",
   "execution_count": 5,
   "metadata": {},
   "outputs": [],
   "source": [
    "# Define prior centers (initial guesses) in a basis of your choice (need not be in the fitting basis)\n",
    "anybasis_params = radvel.Parameters(nplanets,basis='per tc e w k', planet_letters=planet_letters)    # initialize Parameters object\n",
    "\n",
    "anybasis_params['per1'] = radvel.Parameter(value=796.7)      # period of 1st planet\n",
    "anybasis_params['tc1'] = radvel.Parameter(value=8759.8)     # time of inferior conjunction of 1st planet\n",
    "anybasis_params['e1'] = radvel.Parameter(value=0.6)          # eccentricity of 1st planet\n",
    "anybasis_params['w1'] = radvel.Parameter(value=np.pi/2.)      # argument of periastron of the star's orbit for 1st planet\n",
    "anybasis_params['k1'] = radvel.Parameter(value=100)          # velocity semi-amplitude for 1st planet\n",
    "\n",
    "time_base = 8759         # abscissa for slope and curvature terms (should be near mid-point of time baseline)\n",
    "anybasis_params['dvdt'] = radvel.Parameter(value=0.0)         # slope: (If rv is m/s and time is days then [dvdt] is m/s/day)\n",
    "anybasis_params['curv'] = radvel.Parameter(value=0.0)        # curvature: (If rv is m/s and time is days then [curv] is m/s/day^2)\n",
    "\n",
    "# analytically calculate gamma if vary=False and linear=True\n",
    "anybasis_params['gamma_sophie'] = radvel.Parameter(value=0.0)       # velocity zero-point for hires_rk\n",
    "\n",
    "anybasis_params['jit_sophie'] = radvel.Parameter(value=2.6)        # jitter for hires_rk\n",
    "\n",
    "# Convert input orbital parameters into the fitting basis\n",
    "params = anybasis_params.basis.to_any_basis(anybasis_params,fitting_basis)\n",
    "\n",
    "# Set the 'vary' attributes of each of the parameters in the fitting basis. A parameter's 'vary' attribute should\n",
    "# be set to False if you wish to hold it fixed during the fitting process. By default, all 'vary' parameters\n",
    "# are set to True.\n",
    "params['dvdt'].vary = False\n",
    "params['curv'].vary = False\n"
   ]
  },
  {
   "cell_type": "code",
   "execution_count": 8,
   "metadata": {},
   "outputs": [],
   "source": [
    "# Load radial velocity data, in this example the data is contained in\n",
    "# an ASCII file, must have 'time', 'mnvel', 'errvel', and 'tel' keys\n",
    "# the velocities are expected to be in m/s\n",
    "data = pd.read_csv(('HD224016.csv'), sep=',')"
   ]
  },
  {
   "cell_type": "code",
   "execution_count": 10,
   "metadata": {},
   "outputs": [],
   "source": [
    "# Define prior shapes and widths here.\n",
    "priors = [\n",
    "    radvel.prior.EccentricityPrior( nplanets ),           # Keeps eccentricity < 1\n",
    "    radvel.prior.Gaussian('tc1', params['tc1'].value, 600.0),    # Gaussian prior on tc1 with center at tc1 and width 300 days\n",
    "    radvel.prior.HardBounds('jit_k', 0.0, 10.0),\n",
    "]\n"
   ]
  },
  {
   "cell_type": "code",
   "execution_count": null,
   "metadata": {},
   "outputs": [],
   "source": []
  }
 ],
 "metadata": {
  "kernelspec": {
   "display_name": "sophieml",
   "language": "python",
   "name": "python3"
  },
  "language_info": {
   "codemirror_mode": {
    "name": "ipython",
    "version": 3
   },
   "file_extension": ".py",
   "mimetype": "text/x-python",
   "name": "python",
   "nbconvert_exporter": "python",
   "pygments_lexer": "ipython3",
   "version": "3.10.9"
  }
 },
 "nbformat": 4,
 "nbformat_minor": 2
}
